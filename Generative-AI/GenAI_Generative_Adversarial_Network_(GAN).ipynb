{
  "nbformat": 4,
  "nbformat_minor": 0,
  "metadata": {
    "colab": {
      "provenance": []
    },
    "kernelspec": {
      "name": "python3",
      "display_name": "Python 3"
    },
    "language_info": {
      "name": "python"
    }
  },
  "cells": [
    {
      "cell_type": "markdown",
      "source": [
        "# Import Library"
      ],
      "metadata": {
        "id": "GWOgfkQV5C0E"
      }
    },
    {
      "cell_type": "code",
      "execution_count": 1,
      "metadata": {
        "id": "j5Ho-zMX3JRs"
      },
      "outputs": [],
      "source": [
        "import torch\n",
        "import torch.nn as nn\n",
        "import torch.optim as optim\n",
        "from torchvision import datasets, transforms"
      ]
    },
    {
      "cell_type": "code",
      "source": [
        "# mempersiapkan hyperparameter\n",
        "latent_dim = 100 # untuk menentukan dimensi dari ruang laten, yaitu dimensi dari input noise diberikan kepada generator\n",
        "hidden_dim = 256 # jumlah neuron dalam layer tersembunyi dari model generator dan discriminator\n",
        "image_dim = 28 * 28 # dimensi dari gambar input yang akan digunakan dalam model.\n",
        "batch_size = 64 # jumlah sampel data yang akan diproses dalam satu batch selama pelatihan.\n",
        "learning_rate = 0.0002 # menghitung seberapa besar langkah yang diuambil model dalam memperbarui paremter selama pelatihan.\n",
        "num_epochs = 50 # jumlah iterasi penuh seama pelatihan"
      ],
      "metadata": {
        "id": "x6eP8kEd5ZME"
      },
      "execution_count": 3,
      "outputs": []
    },
    {
      "cell_type": "markdown",
      "source": [
        "kemudian mempersiapkan dan memuat dataset MNIST untuk pelatihan dalam bentuk yang sesuai. transformasi diterapkan untuk memastikan data berada dalam format yang benar dan memiliki sskala sesuai untuk pelatihan"
      ],
      "metadata": {
        "id": "MTCItq7_7mLr"
      }
    },
    {
      "cell_type": "code",
      "source": [
        "transform = transforms.Compose([transforms.ToTensor(), transforms.Normalize((0.5,), (0.5,))])\n",
        "train_dataset = datasets.MNIST(root='./data', train=True, transform=transform, download=True)\n",
        "train_loader = torch.utils.data.DataLoader(dataset=train_dataset, batch_size=batch_size, shuffle=True)"
      ],
      "metadata": {
        "colab": {
          "base_uri": "https://localhost:8080/"
        },
        "id": "UCQUxyE97fg8",
        "outputId": "874ebb09-2005-4d91-f284-2ea126c5ab29"
      },
      "execution_count": 4,
      "outputs": [
        {
          "output_type": "stream",
          "name": "stderr",
          "text": [
            "100%|██████████| 9.91M/9.91M [00:00<00:00, 17.8MB/s]\n",
            "100%|██████████| 28.9k/28.9k [00:00<00:00, 481kB/s]\n",
            "100%|██████████| 1.65M/1.65M [00:00<00:00, 4.30MB/s]\n",
            "100%|██████████| 4.54k/4.54k [00:00<00:00, 4.25MB/s]\n"
          ]
        }
      ]
    },
    {
      "cell_type": "code",
      "source": [
        "# membuat class Generator\n",
        "class Generator(nn.Module):\n",
        "  def __init__(self):\n",
        "    super(Generator, self).__init__()\n",
        "    self.model = nn.Sequential(\n",
        "        nn.Linear(latent_dim, hidden_dim),\n",
        "        nn.ReLU(True),\n",
        "        nn.Linear(hidden_dim, hidden_dim),\n",
        "        nn.ReLU(True),\n",
        "        nn.Linear(hidden_dim, image_dim),\n",
        "        nn.Tanh()\n",
        "    )\n",
        "\n",
        "  def forward(self, z):\n",
        "    img = self.model(z)\n",
        "    img = img.view(img.size(0), 1, 28, 28)\n",
        "    return img"
      ],
      "metadata": {
        "id": "4ZOb0Ymd9Cqd"
      },
      "execution_count": 5,
      "outputs": []
    },
    {
      "cell_type": "markdown",
      "source": [
        "kelas Generator ini bertanggung jawab untuk mengambil input noise acak dari runag laten dan menghasilkan gambar yang realistis.. struktur jaringan yang dibangun menggunakan beberapa lapisan linear dan fungsi akktivasi ReLU, diakhiri dengan fungsi Tanh untuk memastikan output berada dalam rengan yuang diinginkan. metode foirward mendefiniskan bagaimana input diteruskan melalui jartingan neuron dan mengubah bentuk output agar sesuai dengan dimensi gambar yang diinginkan"
      ],
      "metadata": {
        "id": "zBitCiA8-Djs"
      }
    },
    {
      "cell_type": "code",
      "source": [
        "# kelas Discriminator\n",
        "class Discriminator(nn.Module):\n",
        "  def __init__(self):\n",
        "    super(Discriminator, self).__init__()\n",
        "    self.model = nn.Sequential(\n",
        "        nn.Linear(image_dim, hidden_dim),\n",
        "        nn.LeakyReLU(0.2, inplace=True),\n",
        "        nn.Linear(hidden_dim, hidden_dim),\n",
        "        nn.LeakyReLU(0.2, inplace=True),\n",
        "        nn.Linear(hidden_dim, 1),\n",
        "        nn.Sigmoid()\n",
        "\n",
        "    )\n",
        "\n",
        "  def forward(self, img):\n",
        "      img_flat = img.view(img.size(0), -1)\n",
        "      validity = self.model(img_flat)\n",
        "      return validity"
      ],
      "metadata": {
        "id": "rdBaoTAf-cwM"
      },
      "execution_count": 7,
      "outputs": []
    },
    {
      "cell_type": "markdown",
      "source": [
        "# melatih kedua model tersebut"
      ],
      "metadata": {
        "id": "iwZcWSdO_WNL"
      }
    },
    {
      "cell_type": "code",
      "source": [
        "# Inisialisasi kelas\n",
        "generator = Generator()\n",
        "discriminator = Discriminator()\n",
        "\n",
        "# Optimizers\n",
        "optimizer_G = optim.Adam(generator.parameters(), lr=learning_rate)\n",
        "optimizers_D = optim.Adam(discriminator.parameters(), lr=learning_rate)\n",
        "\n",
        "# Loss Funtion\n",
        "adversial_loss = nn.BCELoss()"
      ],
      "metadata": {
        "id": "WgMDmpD9_UpU"
      },
      "execution_count": 9,
      "outputs": []
    },
    {
      "cell_type": "code",
      "source": [
        "# fungsi training\n",
        "for epoch in range(num_epochs):\n",
        "  for i, (imgs, _) in enumerate(train_loader):\n",
        "    valid = torch.ones(imgs.size(0), 1)\n",
        "    fake = torch.zeros(imgs.size(0), 1)\n",
        "\n",
        "    real_imgs = imgs\n",
        "\n",
        "    # Train Generator\n",
        "    optimizer_G.zero_grad()\n",
        "    z = torch.randn(imgs.size(0), latent_dim)\n",
        "    gen_imgs = generator(z)\n",
        "    g_loss = adversial_loss(discriminator(gen_imgs), valid)\n",
        "    g_loss.backward()\n",
        "    optimizer_G.step()\n",
        "\n",
        "    # Train Discriminator\n",
        "    optimizers_D.zero_grad()\n",
        "    real_loss = adversial_loss(discriminator(real_imgs), valid)\n",
        "    fake_loss = adversial_loss(discriminator(gen_imgs.detach()), fake)\n",
        "    d_loss = (real_loss + fake_loss) / 2\n",
        "    d_loss.backward()\n",
        "    optimizers_D.step()\n",
        "\n",
        "  print(f\"Epoch {epoch + 1}/{num_epochs}, D Loss: {d_loss.item()}, G Loss: {g_loss.item()}\")"
      ],
      "metadata": {
        "colab": {
          "base_uri": "https://localhost:8080/"
        },
        "id": "iqHViVKJ_8jj",
        "outputId": "7ffa7dd4-fbc6-4ade-ec50-cd5b751cdd97"
      },
      "execution_count": 10,
      "outputs": [
        {
          "output_type": "stream",
          "name": "stdout",
          "text": [
            "Epoch 1/50, D Loss: 0.02435038983821869, G Loss: 3.2805895805358887\n",
            "Epoch 2/50, D Loss: 0.11349216103553772, G Loss: 2.8277335166931152\n",
            "Epoch 3/50, D Loss: 0.2571239471435547, G Loss: 2.965528726577759\n",
            "Epoch 4/50, D Loss: 0.10109515488147736, G Loss: 3.4459004402160645\n",
            "Epoch 5/50, D Loss: 0.012915080413222313, G Loss: 5.052341461181641\n",
            "Epoch 6/50, D Loss: 0.02434566617012024, G Loss: 4.579751491546631\n",
            "Epoch 7/50, D Loss: 0.05577568709850311, G Loss: 4.10336446762085\n",
            "Epoch 8/50, D Loss: 0.05229085683822632, G Loss: 5.860774517059326\n",
            "Epoch 9/50, D Loss: 0.16659951210021973, G Loss: 5.270296096801758\n",
            "Epoch 10/50, D Loss: 0.05366767570376396, G Loss: 4.79157829284668\n",
            "Epoch 11/50, D Loss: 0.01842193678021431, G Loss: 4.844172954559326\n",
            "Epoch 12/50, D Loss: 0.13153700530529022, G Loss: 3.1781656742095947\n",
            "Epoch 13/50, D Loss: 0.11852843314409256, G Loss: 5.875251770019531\n",
            "Epoch 14/50, D Loss: 0.022461118176579475, G Loss: 5.0518412590026855\n",
            "Epoch 15/50, D Loss: 0.09907250106334686, G Loss: 3.987485885620117\n",
            "Epoch 16/50, D Loss: 0.0785817876458168, G Loss: 5.913106918334961\n",
            "Epoch 17/50, D Loss: 0.16117675602436066, G Loss: 2.8579931259155273\n",
            "Epoch 18/50, D Loss: 0.16184380650520325, G Loss: 5.319307804107666\n",
            "Epoch 19/50, D Loss: 0.06441006809473038, G Loss: 3.5528018474578857\n",
            "Epoch 20/50, D Loss: 0.0893612802028656, G Loss: 3.1171302795410156\n",
            "Epoch 21/50, D Loss: 0.09988325834274292, G Loss: 3.4323155879974365\n",
            "Epoch 22/50, D Loss: 0.2135702669620514, G Loss: 2.8789188861846924\n",
            "Epoch 23/50, D Loss: 0.13041795790195465, G Loss: 6.02249002456665\n",
            "Epoch 24/50, D Loss: 0.12713304162025452, G Loss: 3.151892900466919\n",
            "Epoch 25/50, D Loss: 0.11116272211074829, G Loss: 3.39327335357666\n",
            "Epoch 26/50, D Loss: 0.20605142414569855, G Loss: 2.9132001399993896\n",
            "Epoch 27/50, D Loss: 0.2984911799430847, G Loss: 2.3572418689727783\n",
            "Epoch 28/50, D Loss: 0.1988764852285385, G Loss: 2.312894344329834\n",
            "Epoch 29/50, D Loss: 0.17180877923965454, G Loss: 3.385697603225708\n",
            "Epoch 30/50, D Loss: 0.3548944890499115, G Loss: 4.062171936035156\n",
            "Epoch 31/50, D Loss: 0.30624300241470337, G Loss: 3.0925512313842773\n",
            "Epoch 32/50, D Loss: 0.16167235374450684, G Loss: 4.00406551361084\n",
            "Epoch 33/50, D Loss: 0.20330733060836792, G Loss: 3.2911171913146973\n",
            "Epoch 34/50, D Loss: 0.37188154458999634, G Loss: 2.2462687492370605\n",
            "Epoch 35/50, D Loss: 0.27364540100097656, G Loss: 1.762280821800232\n",
            "Epoch 36/50, D Loss: 0.30713266134262085, G Loss: 3.086717128753662\n",
            "Epoch 37/50, D Loss: 0.26294031739234924, G Loss: 3.366194725036621\n",
            "Epoch 38/50, D Loss: 0.1264902502298355, G Loss: 3.1725616455078125\n",
            "Epoch 39/50, D Loss: 0.32692331075668335, G Loss: 3.188678026199341\n",
            "Epoch 40/50, D Loss: 0.27203330397605896, G Loss: 2.992764472961426\n",
            "Epoch 41/50, D Loss: 0.23088081181049347, G Loss: 2.6276297569274902\n",
            "Epoch 42/50, D Loss: 0.187028706073761, G Loss: 2.495534658432007\n",
            "Epoch 43/50, D Loss: 0.37171947956085205, G Loss: 2.6763081550598145\n",
            "Epoch 44/50, D Loss: 0.47915515303611755, G Loss: 1.63920259475708\n",
            "Epoch 45/50, D Loss: 0.3613314628601074, G Loss: 2.0929009914398193\n",
            "Epoch 46/50, D Loss: 0.37660127878189087, G Loss: 2.2357561588287354\n",
            "Epoch 47/50, D Loss: 0.26409387588500977, G Loss: 2.0436172485351562\n",
            "Epoch 48/50, D Loss: 0.33913853764533997, G Loss: 2.998789072036743\n",
            "Epoch 49/50, D Loss: 0.245445117354393, G Loss: 1.8353253602981567\n",
            "Epoch 50/50, D Loss: 0.271192342042923, G Loss: 2.2151732444763184\n"
          ]
        }
      ]
    },
    {
      "cell_type": "code",
      "source": [
        "import matplotlib.pyplot as plt\n",
        "\n",
        "# Generate new images\n",
        "def generate_images(generator, num_images, latent_dim):\n",
        "    # Menentukan status generator menjadi evaluation mode\n",
        "    generator.eval()\n",
        "\n",
        "    # Generate random noise\n",
        "    z = torch.randn(num_images, latent_dim)\n",
        "\n",
        "    # Generate images from noise\n",
        "    gen_imgs = generator(z)\n",
        "\n",
        "    # Rescale images menjadi rentang [0, 1]\n",
        "    gen_imgs = 0.5 * gen_imgs + 0.5\n",
        "\n",
        "    # Plot the generated images\n",
        "    fig, axs = plt.subplots(1, num_images, figsize=(num_images, 1))\n",
        "    for i in range(num_images):\n",
        "        axs[i].imshow(gen_imgs[i].detach().numpy().squeeze(), cmap='gray')\n",
        "        axs[i].axis('off')\n",
        "    plt.show()\n",
        "\n",
        "# Generate dan menampilkan 10 gambar baru\n",
        "generate_images(generator, 10, latent_dim)"
      ],
      "metadata": {
        "colab": {
          "base_uri": "https://localhost:8080/",
          "height": 102
        },
        "id": "NSL0jExXBKRr",
        "outputId": "d7060965-75e9-470a-d1ee-d75595ca0969"
      },
      "execution_count": 12,
      "outputs": [
        {
          "output_type": "display_data",
          "data": {
            "text/plain": [
              "<Figure size 1000x100 with 10 Axes>"
            ],
            "image/png": "[encoded data removed]"
          },
          "metadata": {}
        }
      ]
    }
  ]
}